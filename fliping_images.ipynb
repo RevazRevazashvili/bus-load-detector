{
  "nbformat": 4,
  "nbformat_minor": 0,
  "metadata": {
    "colab": {
      "provenance": [],
      "authorship_tag": "ABX9TyMev+LD6MGLNoWJ73UjWbH4",
      "include_colab_link": true
    },
    "kernelspec": {
      "name": "python3",
      "display_name": "Python 3"
    },
    "language_info": {
      "name": "python"
    }
  },
  "cells": [
    {
      "cell_type": "markdown",
      "metadata": {
        "id": "view-in-github",
        "colab_type": "text"
      },
      "source": [
        "<a href=\"https://colab.research.google.com/github/RevazRevazashvili/bus-load-detector/blob/main/fliping_images.ipynb\" target=\"_parent\"><img src=\"https://colab.research.google.com/assets/colab-badge.svg\" alt=\"Open In Colab\"/></a>"
      ]
    },
    {
      "cell_type": "code",
      "execution_count": null,
      "metadata": {
        "id": "zk3vNjpkWi2I"
      },
      "outputs": [],
      "source": [
        "import os\n",
        "import cv2\n",
        "from google.colab.patches import cv2_imshow\n",
        "\n",
        "desktop_path = \"/Users/revaz/OneDrive/Desktop\"\n",
        "photos_directory = \"New folder\"\n",
        "photos_path = os.path.join(desktop_path, photos_directory)\n",
        "\n",
        "for filename in os.listdir(photos_path):\n",
        "    if filename.endswith((\".jpg\", \".jpeg\", \".png\")):\n",
        "\n",
        "        image_path = os.path.join(photos_path, filename)\n",
        "\n",
        "\n",
        "        image = cv2.imread(image_path)\n",
        "\n",
        "\n",
        "        if image is not None:\n",
        "\n",
        "            print(f\"Original Image: {filename}\")\n",
        "            cv2_imshow(image)\n",
        "\n",
        "            # Flip the image horizontally\n",
        "            flipped_image_horizontal = cv2.flip(image, 1)  # 1 for horizontal flip\n",
        "\n",
        "            # Display the horizontally flipped image\n",
        "            print(\"Horizontally Flipped Image:\")\n",
        "            cv2_imshow(flipped_image_horizontal)\n",
        "\n",
        "        else:\n",
        "            print(f\"Error: Unable to load the image from {image_path}\")\n"
      ]
    }
  ]
}